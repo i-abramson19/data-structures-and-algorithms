{
 "cells": [
  {
   "cell_type": "markdown",
   "metadata": {},
   "source": [
    "<h1>Linked Lists</h1>"
   ]
  },
  {
   "cell_type": "markdown",
   "metadata": {},
   "source": [
    "<p>A linked list provides an alternative to an array-based sequence (such as a Python list). A linked list relies on a distributed representation in which a lightweight object, known as a node, is allocated for each element. Each node maintains a reference to its element and one or more references to neighboring nodes in order to represent the linear order of the sequence.</p>"
   ]
  },
  {
   "cell_type": "markdown",
   "metadata": {},
   "source": [
    "<p>Elements of a linked list cannot be efficiently accessed by a numeric index k.</p>"
   ]
  },
  {
   "cell_type": "markdown",
   "metadata": {},
   "source": [
    "<h2>Singly Linked Lists</h2>"
   ]
  },
  {
   "cell_type": "markdown",
   "metadata": {},
   "source": [
    "<p>A singly linked list is a collection of nodes that collectively form a linear sequence. Each node stores a reference to an object that is an element of the sequence, as well as a reference to the next node of the list.</p>"
   ]
  },
  {
   "cell_type": "markdown",
   "metadata": {},
   "source": [
    "<p>The first and last node of a linked list are known as the head and tail of the list, respectively. The tail is the node having None as its next reference. Moving from the head to the tail by following each node's next reference is known as traversing.</p>"
   ]
  },
  {
   "cell_type": "markdown",
   "metadata": {},
   "source": [
    "<p>A linked list's representation in memory relies on the collaboration of many objects. Each node is represented as a unique object, with that instance storing a reference to its element and a reference to the next node. An object represents the linked list as a whole, which must at least keep a reference to the head of the list.</p>"
   ]
  },
  {
   "cell_type": "markdown",
   "metadata": {},
   "source": [
    "<p>We cannot easily delete the last node of a singly linked list. We must be able to access the node before the last node in order to remove the last node. The only way to access this node is by starting from the head of the list and search all the way through the list. To support such an operation efficiently, we will need to make out list doubly linked.</p>"
   ]
  },
  {
   "cell_type": "markdown",
   "metadata": {},
   "source": [
    "<p>To represent individual nodes of a list, we develop a lightweight _Node class, which will never be directly exposed to the user of our stack class.</p>"
   ]
  },
  {
   "cell_type": "code",
   "execution_count": 1,
   "metadata": {},
   "outputs": [],
   "source": [
    "class Empty(Exception):\n",
    "    \"\"\"Error attempting to access an element from an empty container\"\"\"\n",
    "    pass\n",
    "\n",
    "class LinkedStack:\n",
    "    \"\"\"LIFO Stack implementation using a singly linked list for storage\"\"\"\n",
    "    \n",
    "    class _Node:\n",
    "        \"\"\"Nonpublic class for storing a singly linked node\"\"\"\n",
    "        __slots__ = '_element', '_next'\n",
    "        \n",
    "        def __init__(self, element, next):\n",
    "            self._element = element\n",
    "            self._next = next\n",
    "            \n",
    "    # Stack methods\n",
    "    def __init__(self):\n",
    "        \"\"\"Create an empty stack\"\"\"\n",
    "        self._head = None\n",
    "        self._size = 0\n",
    "        \n",
    "    def __len__(self):\n",
    "        \"\"\"Return the number of elements in the stack\"\"\"\n",
    "        return self._size\n",
    "    \n",
    "    def is_empty(self):\n",
    "        \"\"\"Return True if the stack is empty\"\"\"\n",
    "        return self._size == 0\n",
    "    \n",
    "    def push(self, e):\n",
    "        \"\"\"Add element e to the top of the stack\"\"\"\n",
    "        self._head = self._Node(e, self._head)\n",
    "        self._size += 1\n",
    "        \n",
    "    def top(self):\n",
    "        \"\"\"Return the element at the top of stack\n",
    "        \n",
    "        Raise Empty exception if the stack is empty\n",
    "        \"\"\"\n",
    "        if self.is_empty():\n",
    "            raise Empty('Stack is empty')\n",
    "        return self._head._element\n",
    "    \n",
    "    def pop(self):\n",
    "        \"\"\"Remove and return the element from top of stack\n",
    "        \n",
    "        Raise Empty exception if the stack is empty\n",
    "        \"\"\"\n",
    "        if self.is_empty():\n",
    "            raise Empty('Stack is empty')\n",
    "        answer = self._head._element\n",
    "        self._head = self._head._next\n",
    "        self._size -= 1\n",
    "        return answer"
   ]
  },
  {
   "cell_type": "code",
   "execution_count": 2,
   "metadata": {},
   "outputs": [
    {
     "data": {
      "text/plain": [
       "1"
      ]
     },
     "execution_count": 2,
     "metadata": {},
     "output_type": "execute_result"
    }
   ],
   "source": [
    "# Create a Linked Stack (List)\n",
    "S = LinkedStack()\n",
    "S.push(5) # O(1)\n",
    "S.pop()   # O(1)\n",
    "S.push(3) # O(1)\n",
    "S.top()   # O(1)\n",
    "len(S)"
   ]
  },
  {
   "cell_type": "markdown",
   "metadata": {},
   "source": [
    "<h2>Circularly Linked Lists</h2>"
   ]
  },
  {
   "cell_type": "markdown",
   "metadata": {},
   "source": [
    "<p>We can have the tail of the list use its next reference to point back to the head of the list to create a circularly linked list.</p>"
   ]
  },
  {
   "cell_type": "markdown",
   "metadata": {},
   "source": [
    "<h2>Doubly Linked List</h2>"
   ]
  },
  {
   "cell_type": "markdown",
   "metadata": {},
   "source": [
    "<p>A doubly linked list contains nodes with an explicit reference to the node before it and after it. These lists allow a greater variety of O(1)-time update operations, including insertions and deletions at arbitrary positions with the list.</p>"
   ]
  },
  {
   "cell_type": "markdown",
   "metadata": {},
   "source": [
    "<p>In order to avoid some special cases when operating near the boundaries of a doubly linked list, it helps to add special nodes at both ends of the list: a header node and a trailer node. These 'dummy' nodes are known as sentinels and they do not store elements of the primary sequence.</p>"
   ]
  },
  {
   "cell_type": "markdown",
   "metadata": {},
   "source": [
    "<p>Adding sentinel nodes has many advantages, notably a new node will always be placed between a pair of existing nodes and every element that is to be deleted is guaranteed to be stored in a node that has neighbors on each side.</p>"
   ]
  },
  {
   "cell_type": "markdown",
   "metadata": {},
   "source": [
    "<p>Implementation of a Doubly Linked List:</p>"
   ]
  },
  {
   "cell_type": "code",
   "execution_count": null,
   "metadata": {},
   "outputs": [],
   "source": [
    "class _DoublyLinkedBase:\n",
    "    '''A base class providing a doubly linked list representation'''\n",
    "    \n",
    "    class _Node:\n",
    "        __slots__ = '_element', '_prev', '_next'\n",
    "        \n",
    "        def __init__(self, element, prev, next):\n",
    "            self._element = element\n",
    "            self._prev = prev\n",
    "            self._next = next\n",
    "            \n",
    "    def __init__(self):\n",
    "        '''Create an empty list'''\n",
    "        self _header = self._Node(None, None, None)\n",
    "        self _trailer = self._Node(None, None, None)\n",
    "        self _header._next = self._trailer\n",
    "        "
   ]
  }
 ],
 "metadata": {
  "kernelspec": {
   "display_name": "Python 3",
   "language": "python",
   "name": "python3"
  },
  "language_info": {
   "codemirror_mode": {
    "name": "ipython",
    "version": 3
   },
   "file_extension": ".py",
   "mimetype": "text/x-python",
   "name": "python",
   "nbconvert_exporter": "python",
   "pygments_lexer": "ipython3",
   "version": "3.6.0"
  }
 },
 "nbformat": 4,
 "nbformat_minor": 2
}
