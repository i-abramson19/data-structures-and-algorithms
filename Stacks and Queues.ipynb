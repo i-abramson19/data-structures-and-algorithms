{
 "cells": [
  {
   "cell_type": "markdown",
   "metadata": {},
   "source": [
    "<h2>Stacks</h2>"
   ]
  },
  {
   "cell_type": "markdown",
   "metadata": {},
   "source": [
    "<p>A stack is a collection of objects that are inserted and removed according to the last-in, first-out principle <b>(LIFO)</b>. A user may insert objects into a stack at any time, but may only access or remove the most recently inserted object that remains.</p>"
   ]
  },
  {
   "cell_type": "markdown",
   "metadata": {},
   "source": [
    "<p>Stacks support the push and pop methods. \"S.push(e)\" adds element e to the top of stack S and \"S.pop()\" removes and returns the top element from the stack S.</p>"
   ]
  },
  {
   "cell_type": "markdown",
   "metadata": {},
   "source": [
    "<p>We assume a newly created stack is empty and that elements added to the stack can have arbitrary type.</p>"
   ]
  },
  {
   "cell_type": "markdown",
   "metadata": {},
   "source": [
    "<p>We can implement a stack quite easily by storing its elements in a Python list. The list class already supports adding an element to the end with the append method, and remove the last element with the pop method. Although a programmer could directly use the list class in place of a formal stack class, lists also include behaviors that would break the abstraction that the stack ADT represents.</p>"
   ]
  },
  {
   "cell_type": "markdown",
   "metadata": {},
   "source": [
    "<p>The <b>adapter</b> design pattern applies to any context where we effectively want to modify an existing class so that its methods match those of a related, but different, class or interface. We can define a new class in such a way that it contains an instance of the existing class as a hidden field, and then to implement each method of the new class using methods of this hidden instance variable.</p>"
   ]
  },
  {
   "cell_type": "code",
   "execution_count": 1,
   "metadata": {},
   "outputs": [],
   "source": [
    "class Empty(Exception):\n",
    "    \"\"\"Error attempting to access an element from an empty container\"\"\"\n",
    "    pass"
   ]
  },
  {
   "cell_type": "code",
   "execution_count": 26,
   "metadata": {},
   "outputs": [],
   "source": [
    "class ArrayStack:\n",
    "    \"\"\"\n",
    "    LIFO Stack implementation using a Python list as underlying storage\n",
    "    \"\"\"\n",
    "    def __init__(self):\n",
    "        self._data = []\n",
    "\n",
    "    def __len__(self):\n",
    "        return len(self._data)\n",
    "\n",
    "    def is_empty(self):\n",
    "        return (len(self._data)==0)\n",
    "\n",
    "    def push(self,e):\n",
    "        \"\"\"\n",
    "        Add an element to the top of the stack\n",
    "        \"\"\"\n",
    "        self._data.append(e)\n",
    "\n",
    "    def pop(self):\n",
    "        \"\"\"\n",
    "        Pop the next item.\n",
    "        \"\"\"\n",
    "        if( self.is_empty() ):\n",
    "            raise Empty(\"Stack is empty\")\n",
    "        return self._data.pop()"
   ]
  },
  {
   "cell_type": "markdown",
   "metadata": {},
   "source": [
    "<p>Stacks push, pop, is_empty, and len methods are O(1) but there is occasionally an O(n)-time worst case. The space usage for a stack is O(n).</p>"
   ]
  },
  {
   "cell_type": "markdown",
   "metadata": {},
   "source": [
    "<h2>Queues</h2>"
   ]
  },
  {
   "cell_type": "markdown",
   "metadata": {},
   "source": [
    "<p>The queue is a collection of objects that are inserted and removed according to the first-in, first-out <b>(FIFO)</b> principle. Element access and deletion are restricted to the first element in the queue, and element insertion is restricted to the back of the sequence.</p>"
   ]
  },
  {
   "cell_type": "markdown",
   "metadata": {},
   "source": [
    "<p>The queue abstract data type (ADT) supports the two methods \"Q.enqueue(e)\", which adds element e to the back of queue Q, and \"Q.dequeue()\", which removes and returns the first element from queue Q.</p>"
   ]
  },
  {
   "cell_type": "markdown",
   "metadata": {},
   "source": [
    "<p>The \"pop(0)\" method on a list would always cause the worst-case behavior of O(n) time because all elements would be needed to be shifted.</p>"
   ]
  },
  {
   "cell_type": "code",
   "execution_count": 1,
   "metadata": {},
   "outputs": [],
   "source": [
    "class ArrayQueue:\n",
    "    \"\"\"FIFO queue implementation using a Python list as underlying storage\"\"\"\n",
    "    DEFAULT_CAPACITY = 10\n",
    "    \n",
    "    def __init__(self):\n",
    "        \"\"\"Create an empty queue\"\"\"\n",
    "        self._data = [None] * ArrayQueue.DEFAULT_CAPACITY\n",
    "        self._size = 0\n",
    "        self._front = 0\n",
    "        \n",
    "    def __len__(self):\n",
    "        \"\"\"Return the number of elements in the queue\"\"\"\n",
    "        return self._size\n",
    "    \n",
    "    def is_empty(self):\n",
    "        \"\"\"Return True if the queue is empty\"\"\"\n",
    "        return self._size == 0\n",
    "    \n",
    "    def first(self):\n",
    "        \"\"\"Return (but do not remove) the element at the front of the queue\n",
    "        \n",
    "        Raise Empty exception if the queue is empty\n",
    "        \"\"\"\n",
    "        if self.is_empty():\n",
    "            raise Empty('Queue is empty')\n",
    "        return self._data[self._front]\n",
    "    \n",
    "    def dequeue(self):\n",
    "        \"\"\"Remove and return the first element of the queue\n",
    "        \n",
    "        Raise Empty exception if the queue is empty\n",
    "        \"\"\"\n",
    "        if self.is_empty():\n",
    "            raise Empty('Queue is empty')\n",
    "            \n",
    "        answer = self._data[self._front]\n",
    "        self._data[self._front] = None\n",
    "        self._front = (self._front + 1) % len(self._data)\n",
    "        self._size -= 1\n",
    "        return answer\n",
    "    \n",
    "    def enqueue(self, e):\n",
    "        \"\"\"Add an element to the back of queue\"\"\"\n",
    "        if self._size == len(self._data):\n",
    "            self._resize(2 * len(self.data))\n",
    "        avail = (self._front + self._size) % len(self._data)\n",
    "        self._data[avail] = e\n",
    "        self._size += 1\n",
    "        \n",
    "    def _resize(self, cap):\n",
    "        \"\"\"Resize to a new list of capacity >= len(self)\"\"\"\n",
    "        old = self._data\n",
    "        self._data = [None] * cap\n",
    "        walk = self._front\n",
    "        for k in range(self._size):\n",
    "            self._data[k] = old[walk]\n",
    "            walk = (1 + walk) % len(old)\n",
    "        self._front = 0"
   ]
  },
  {
   "cell_type": "markdown",
   "metadata": {},
   "source": [
    "<p>Queue's enqueue, dequeue, is_empty, and len methods are O(1) time. The space usage for a queue is O(n).</p>"
   ]
  },
  {
   "cell_type": "code",
   "execution_count": null,
   "metadata": {},
   "outputs": [],
   "source": [
    "<p>A double ended queue, or deque (deck) allows elements to be added and removed from the first position and last position in the queue.</p>"
   ]
  }
 ],
 "metadata": {
  "kernelspec": {
   "display_name": "Python 3",
   "language": "python",
   "name": "python3"
  },
  "language_info": {
   "codemirror_mode": {
    "name": "ipython",
    "version": 3
   },
   "file_extension": ".py",
   "mimetype": "text/x-python",
   "name": "python",
   "nbconvert_exporter": "python",
   "pygments_lexer": "ipython3",
   "version": "3.6.0"
  }
 },
 "nbformat": 4,
 "nbformat_minor": 2
}
