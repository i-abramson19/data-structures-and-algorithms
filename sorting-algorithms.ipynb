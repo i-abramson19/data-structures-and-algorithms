{
 "cells": [
  {
   "cell_type": "markdown",
   "metadata": {},
   "source": [
    "<h2>Sorting Algorithms</h2>"
   ]
  },
  {
   "cell_type": "markdown",
   "metadata": {},
   "source": [
    "<p>Given a collection of objects, the goal is to rearrange the elements so that they are ordered from smallest to largest (or produce a new copy of the sequence with such an order).</p>\n",
    "\n",
    "<p>Python has built-in support for sorting data, in the form of the sort method. These built-in functions use advanced algorithms and are highly optimized. A programmer should typically rely on calls to the built-in sorting functions but it remains important to have a deep understanding of sorting algorithms.</p>"
   ]
  },
  {
   "cell_type": "markdown",
   "metadata": {},
   "source": [
    "<h3>Merge Sort</h3>"
   ]
  },
  {
   "cell_type": "markdown",
   "metadata": {},
   "source": [
    "<p>Merge-sort uses recursion in an algorithmic design pattern called divide-and-conquer, which consists of the following three steps:</p>\n",
    "\n",
    "<ol>\n",
    "    <li>Divide: if the input size is smaller than a certain threshold, solve the problem directly using a straightforward method and return the solution obtained. Otherwise, divide the input data into two or more disjoint subsets.</li>\n",
    "    <li>Conquer: recursively solve the subproblems associated with the subsets.</li>\n",
    "    <li>Combine: take the solutions to the subproblems and merge them into a solution to the original problem.</li>\n",
    "</ol>"
   ]
  },
  {
   "cell_type": "markdown",
   "metadata": {},
   "source": [
    "<p>Merge two sorted Python lists S1 and S2 into list S:</p>"
   ]
  },
  {
   "cell_type": "code",
   "execution_count": 7,
   "metadata": {},
   "outputs": [],
   "source": [
    "def merge(S1, S2, S):\n",
    "    i = j = 0\n",
    "    while i + j < len(S):\n",
    "        if j == len(S2) or (i < len(S1) and S1[i] < S2[j]):\n",
    "            S[i+j] = S1[i] # copy ith element of S1 as next item in S\n",
    "            i += 1\n",
    "        else:\n",
    "            S[i+j] = S2[j] # copy jth element of S2 as next item in S\n",
    "            j += 1"
   ]
  },
  {
   "cell_type": "markdown",
   "metadata": {},
   "source": [
    "<p>Recursively merge-sort using the merge function above:</p>"
   ]
  },
  {
   "cell_type": "code",
   "execution_count": 41,
   "metadata": {},
   "outputs": [],
   "source": [
    "def merge_sort(S):\n",
    "    n = len(S)\n",
    "    if n < 2:\n",
    "        return\n",
    "     \n",
    "    # divide\n",
    "    mid = n // 2\n",
    "    S1 = S[0:mid]  # copy first half\n",
    "    S2 = S[mid:n]  # copy second half\n",
    "    \n",
    "    # conquer with recursion\n",
    "    merge_sort(S1)\n",
    "    merge_sort(S2)\n",
    "    \n",
    "    print(\"S1\")\n",
    "    print(S1)\n",
    "    print(\"S2\")\n",
    "    print(S2)\n",
    "    \n",
    "    # merge results\n",
    "    merge(S1, S2, S)"
   ]
  },
  {
   "cell_type": "code",
   "execution_count": 42,
   "metadata": {},
   "outputs": [
    {
     "name": "stdout",
     "output_type": "stream",
     "text": [
      "S1\n",
      "[5]\n",
      "S2\n",
      "[4]\n",
      "S1\n",
      "[1]\n",
      "S2\n",
      "[4, 5]\n",
      "S1\n",
      "[1]\n",
      "S2\n",
      "[2]\n",
      "S1\n",
      "[3]\n",
      "S2\n",
      "[1, 2]\n",
      "S1\n",
      "[1, 4, 5]\n",
      "S2\n",
      "[1, 2, 3]\n"
     ]
    }
   ],
   "source": [
    "lst = [1,5,4,3,1,2]\n",
    "merge_sort(lst)"
   ]
  },
  {
   "cell_type": "code",
   "execution_count": 20,
   "metadata": {},
   "outputs": [
    {
     "data": {
      "text/plain": [
       "[1]"
      ]
     },
     "execution_count": 20,
     "metadata": {},
     "output_type": "execute_result"
    }
   ],
   "source": [
    "lst[0:1]"
   ]
  },
  {
   "cell_type": "code",
   "execution_count": null,
   "metadata": {},
   "outputs": [],
   "source": []
  }
 ],
 "metadata": {
  "kernelspec": {
   "display_name": "Python 3",
   "language": "python",
   "name": "python3"
  },
  "language_info": {
   "codemirror_mode": {
    "name": "ipython",
    "version": 3
   },
   "file_extension": ".py",
   "mimetype": "text/x-python",
   "name": "python",
   "nbconvert_exporter": "python",
   "pygments_lexer": "ipython3",
   "version": "3.6.0"
  }
 },
 "nbformat": 4,
 "nbformat_minor": 2
}
