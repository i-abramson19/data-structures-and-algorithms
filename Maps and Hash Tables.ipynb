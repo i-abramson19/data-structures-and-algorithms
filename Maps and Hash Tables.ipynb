{
 "cells": [
  {
   "cell_type": "markdown",
   "metadata": {},
   "source": [
    "<h2>Maps</h2>"
   ]
  },
  {
   "cell_type": "markdown",
   "metadata": {},
   "source": [
    "<p>Python's <b>dict</b> class is arguably the most significant data structure in the language. It represents an abstraction known as a dictionary, in which unique keys are mapped to assoociated values. They are commonly referred to as associated arrays or maps.</p>"
   ]
  },
  {
   "cell_type": "markdown",
   "metadata": {},
   "source": [
    "<p>A map may be implemented so that a search for a key, and its associated value, can be performed very efficently.</p>"
   ]
  },
  {
   "cell_type": "markdown",
   "metadata": {},
   "source": [
    "<p>Here are five of the most important behaviors of a map M:</p>\n",
    "    <ul>\n",
    "    <li style=\"padding-bottom: 10px\"><b>M[k]</b>: return the value v associated with key k in map M, raise a KeyError if one doesn't exist. Implemented with the special method __getitem__.</li>\n",
    "    <li style=\"padding-bottom: 10px\"><b>M[k] = v</b>: associate value v with key k in map M, replacing the existing value if the map already contains an item with key k. Implemented with the special method __setitem__.</li>\n",
    "    <li style=\"padding-bottom: 10px\"><b>del M[k]</b>: remove from map M the item with key equal to k; if M has no such item then raise a KeyError. Implemented with the special method __delitem__.</li>\n",
    "    <li style=\"padding-bottom: 10px\"><b>len(M)</b>: return the number of items in map M. Implemented with the special method __len__.</li>\n",
    "    <li><b>iter(M)</b>: the default iteration for a map generates a sequence of keys in the map. Implemented with the special method __iter__, and allows loops of the form for k in M.</li>\n",
    "    </ul>"
   ]
  },
  {
   "cell_type": "markdown",
   "metadata": {},
   "source": [
    "<p>For additional convienaence, map M should also support the following behaviors:</p>"
   ]
  },
  {
   "cell_type": "markdown",
   "metadata": {},
   "source": [
    "<ul>\n",
    "    <li style=\"padding-bottom: 10px\"><b>k in M</b>: Return True if the map contains an item with key k. Implemented with the special __contains__ method.</li>\n",
    "    <li style=\"padding-bottom: 10px\"><b>M.get(k, d=None)</b>: Return M[k] if key k exists in the map; otherwise return default value d. Eliminates the risk of a KeyError.</li>\n",
    "    <li style=\"padding-bottom: 10px\"><b>M.setdefault(k, d)</b>: If key k exists in the map, simply return M[k]; otherwise, set M[k] = d and return that value.</li>\n",
    "    <li style=\"padding-bottom: 10px\"><b>M.pop(k, d=None)</b>: Remove the item associated with key k from the map and return its associated value v. If k is not in the map, return default value d.</li>\n",
    "    <li style=\"padding-bottom: 10px\"><b>M.popitem()</b>: Remove an arbitrary key-value pair from the map, and return a (k, v) tuple representing the removed pair. Raise a KeyError if map is empty.</li>\n",
    "    <li style=\"padding-bottom: 10px\"><b>M.clear()</b>: Remove all key-value pairs from the map.</li>\n",
    "    <li style=\"padding-bottom: 10px\"><b>M.keys()</b>: Return a set-like view of all keys of M.</li>\n",
    "    <li style=\"padding-bottom: 10px\"><b>M.values()</b>: Return a set-like view of all values of M.</li>\n",
    "    <li style=\"padding-bottom: 10px\"><b>M.items()</b>: Return a set-like view of (k, v) tuples for all entries of M.</li>\n",
    "    <li style=\"padding-bottom: 10px\"><b>M.update(M2)</b>: Assign M[k] = v for every (k, v) pair in map M2.</li>\n",
    "    <li style=\"padding-bottom: 10px\"><b>M == M2</b>: Return True if maps M and M2 have identical key-value associations.</li>\n",
    "    <li><b>M != M2</b>: Return True if maps M and M2 do not have identical key-value associations.</li>\n",
    "</ul>"
   ]
  },
  {
   "cell_type": "markdown",
   "metadata": {},
   "source": [
    "<h4>Application: Counting Word Frequencies</h4>"
   ]
  },
  {
   "cell_type": "code",
   "execution_count": 5,
   "metadata": {},
   "outputs": [
    {
     "data": {
      "text/plain": [
       "\"\\nfreq = {}\\nfor piece in open(filename).read().lower().split():\\n    # only consider alphabetic characters within this piece\\n    word = ''.join(c for c in piece if c.isalpha())\\n    if word:\\n        freq[word] = 1 + freq.get(word, 0)\\n\\nmax_word = ''\\nmax_count = 0\\nfor (w, c) in freq.items():\\n    if c > max_count:\\n        max_word = w\\n        max_count = c\\nprint('The most frequent word is', max_word)\\nprint('Its number of occurences is', max_count)\\n\""
      ]
     },
     "execution_count": 5,
     "metadata": {},
     "output_type": "execute_result"
    }
   ],
   "source": [
    "'''\n",
    "freq = {}\n",
    "for piece in open(filename).read().lower().split():\n",
    "    # only consider alphabetic characters within this piece\n",
    "    word = ''.join(c for c in piece if c.isalpha())\n",
    "    if word:\n",
    "        freq[word] = 1 + freq.get(word, 0)\n",
    "\n",
    "max_word = ''\n",
    "max_count = 0\n",
    "for (w, c) in freq.items():\n",
    "    if c > max_count:\n",
    "        max_word = w\n",
    "        max_count = c\n",
    "print('The most frequent word is', max_word)\n",
    "print('Its number of occurences is', max_count)\n",
    "'''"
   ]
  },
  {
   "cell_type": "code",
   "execution_count": null,
   "metadata": {},
   "outputs": [],
   "source": []
  }
 ],
 "metadata": {
  "kernelspec": {
   "display_name": "Python 3",
   "language": "python",
   "name": "python3"
  },
  "language_info": {
   "codemirror_mode": {
    "name": "ipython",
    "version": 3
   },
   "file_extension": ".py",
   "mimetype": "text/x-python",
   "name": "python",
   "nbconvert_exporter": "python",
   "pygments_lexer": "ipython3",
   "version": "3.6.0"
  }
 },
 "nbformat": 4,
 "nbformat_minor": 2
}
